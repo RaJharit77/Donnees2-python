{
 "cells": [
  {
   "cell_type": "code",
   "execution_count": null,
   "id": "29da76ac-90fc-41dc-884a-cfdf20eade96",
   "metadata": {},
   "outputs": [],
   "source": [
    "# Importer les dépendances\n",
    "import requests\n",
    "import pandas as pd\n",
    "from datetime import datetime\n",
    "import os\n",
    "from IPython.display import display  # Pour afficher les DataFrames proprement"
   ]
  },
  {
   "cell_type": "code",
   "execution_count": null,
   "id": "ba1ecfff-74b0-48d1-a312-11a9072a044d",
   "metadata": {},
   "outputs": [],
   "source": [
    "# Configuration\n",
    "API_KEY = \"1aeb4aad4fd664aff93ff8b9aa0284d0\"\n",
    "CITY = \"Antananarivo\"\n",
    "BASE_URL = \"https://api.openweathermap.org/data/2.5/weather\"\n",
    "UNITS = \"metric\"\n",
    "OUTPUT_DIR = \"data\"\n",
    "\n",
    "# Créer le dossier de sortie\n",
    "os.makedirs(OUTPUT_DIR, exist_ok=True)"
   ]
  },
  {
   "cell_type": "code",
   "execution_count": null,
   "id": "0717ad83-587a-4e6d-959a-c0181166f5d3",
   "metadata": {},
   "outputs": [],
   "source": [
    "# Test de l'extraction des données\n",
    "def test_extraction():\n",
    "    print(\"=== Test d'extraction ===\")\n",
    "    weather_data = get_weather_data()\n",
    "    \n",
    "    if weather_data:\n",
    "        print(\"Données brutes reçues de l'API:\")\n",
    "        print(f\"Ville: {weather_data.get('name')}\")\n",
    "        print(f\"Température: {weather_data.get('main', {}).get('temp')}°C\")\n",
    "        print(f\"Code HTTP: {requests.get(BASE_URL, params={'q': CITY, 'units': UNITS, 'appid': API_KEY}).status_code}\")\n",
    "    else:\n",
    "        print(\"Échec de la récupération des données\")\n",
    "    \n",
    "    return weather_data\n",
    "\n",
    "raw_data = test_extraction()\n",
    "display(raw_data)  # Affiche les données brutes"
   ]
  },
  {
   "cell_type": "code",
   "execution_count": null,
   "id": "a548f48b-c1a2-4b93-8bfe-c8678d88b606",
   "metadata": {},
   "outputs": [],
   "source": [
    "# Test de transformation\n",
    "def test_transformation(raw_data):\n",
    "    print(\"\\n=== Test de transformation ===\")\n",
    "    if not raw_data:\n",
    "        print(\"Aucune donnée à transformer\")\n",
    "        return None\n",
    "    \n",
    "    df = transform_data(raw_data)\n",
    "    \n",
    "    if df is not None:\n",
    "        print(\"DataFrame créé avec les colonnes suivantes:\")\n",
    "        print(df.columns.tolist())\n",
    "        display(df)  # Affiche le DataFrame proprement dans Jupyter\n",
    "    else:\n",
    "        print(\"Échec de la transformation\")\n",
    "    \n",
    "    return df\n",
    "\n",
    "weather_df = test_transformation(raw_data)"
   ]
  },
  {
   "cell_type": "code",
   "execution_count": null,
   "id": "4d5e4f02-3605-40d3-ac28-88a387d8cef9",
   "metadata": {},
   "outputs": [],
   "source": [
    "# Test de sauvegarde\n",
    "def test_save(df):\n",
    "    print(\"\\n=== Test de sauvegarde ===\")\n",
    "    if df is None:\n",
    "        print(\"Aucune donnée à sauvegarder\")\n",
    "        return\n",
    "    \n",
    "    # Sauvegarde initiale\n",
    "    save_to_csv(df)\n",
    "    \n",
    "    # Vérification du fichier\n",
    "    today = datetime.now().strftime(\"%Y-%m-%d\")\n",
    "    filename = f\"meteo_{today}.csv\"\n",
    "    filepath = os.path.join(OUTPUT_DIR, filename)\n",
    "    \n",
    "    if os.path.exists(filepath):\n",
    "        print(f\"Fichier {filename} créé avec succès\")\n",
    "        print(\"\\nContenu du fichier:\")\n",
    "        saved_data = pd.read_csv(filepath)\n",
    "        display(saved_data)\n",
    "        \n",
    "        # Test d'écrasement\n",
    "        print(\"\\nTest d'écrasement du fichier...\")\n",
    "        save_to_csv(df)\n",
    "        print(\"Vérifiez que le fichier n'a pas été dupliqué\")\n",
    "    else:\n",
    "        print(\"Échec de la création du fichier\")\n",
    "\n",
    "test_save(weather_df)"
   ]
  },
  {
   "cell_type": "code",
   "execution_count": null,
   "id": "56ae0000-8e5a-4e0a-bf3d-c5aca8b2a1ad",
   "metadata": {},
   "outputs": [],
   "source": [
    "# Test du flux complet\n",
    "print(\"\\n=== Test du flux complet ===\")\n",
    "main()"
   ]
  },
  {
   "cell_type": "code",
   "execution_count": null,
   "id": "896c524f-4b68-46b8-9ee0-c5e2eb9d72eb",
   "metadata": {},
   "outputs": [],
   "source": [
    "# Tests supplémentaires\n",
    "print(\"\\n=== Tests supplémentaires ===\")\n",
    "\n",
    "# Test avec une ville invalide\n",
    "print(\"\\nTest avec ville invalide:\")\n",
    "original_city = CITY\n",
    "CITY = \"VilleInexistante123\"\n",
    "invalid_data = get_weather_data()\n",
    "print(f\"Résultat pour ville invalide: {invalid_data}\")\n",
    "\n",
    "# Remettre la ville originale\n",
    "CITY = original_city\n",
    "\n",
    "# Test avec clé API invalide\n",
    "print(\"\\nTest avec clé API invalide:\")\n",
    "original_key = API_KEY\n",
    "API_KEY = \"cleinvalide123\"\n",
    "invalid_key_data = get_weather_data()\n",
    "print(f\"Résultat avec clé invalide: {invalid_key_data}\")\n",
    "\n",
    "# Remettre la clé originale\n",
    "API_KEY = original_key"
   ]
  }
 ],
 "metadata": {
  "kernelspec": {
   "display_name": "Python 3 (ipykernel)",
   "language": "python",
   "name": "python3"
  },
  "language_info": {
   "codemirror_mode": {
    "name": "ipython",
    "version": 3
   },
   "file_extension": ".py",
   "mimetype": "text/x-python",
   "name": "python",
   "nbconvert_exporter": "python",
   "pygments_lexer": "ipython3",
   "version": "3.13.3"
  }
 },
 "nbformat": 4,
 "nbformat_minor": 5
}
